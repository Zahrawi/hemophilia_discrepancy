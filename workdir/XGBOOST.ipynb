{
 "cells": [
  {
   "cell_type": "markdown",
   "id": "ec0b2486",
   "metadata": {},
   "source": [
    "# Creating A XGBOOST MODEL \n",
    "\n",
    "\n",
    "## Loading and Cleaning the Data\n",
    "first of all we will load our datasets and clean them."
   ]
  },
  {
   "cell_type": "code",
   "execution_count": 26,
   "id": "ad5ff2e9",
   "metadata": {},
   "outputs": [],
   "source": [
    "# Loading Packages\n",
    "import pandas as pd\n",
    "import numpy as np\n",
    "import xgboost as xgb\n",
    "from sklearn.model_selection import train_test_split\n",
    "from sklearn.metrics import balanced_accuracy_score, roc_auc_score, make_scorer\n",
    "from sklearn.model_selection import GridSearchCV\n",
    "from sklearn.linear_model import LogisticRegression\n",
    "from sklearn.metrics import confusion_matrix, balanced_accuracy_score\n",
    "from sklearn.metrics import plot_confusion_matrix\n",
    "import matplotlib.pyplot as plt\n",
    "\n"
   ]
  },
  {
   "cell_type": "code",
   "execution_count": 27,
   "id": "a257d17f",
   "metadata": {},
   "outputs": [
    {
     "data": {
      "text/html": [
       "<div>\n",
       "<style scoped>\n",
       "    .dataframe tbody tr th:only-of-type {\n",
       "        vertical-align: middle;\n",
       "    }\n",
       "\n",
       "    .dataframe tbody tr th {\n",
       "        vertical-align: top;\n",
       "    }\n",
       "\n",
       "    .dataframe thead th {\n",
       "        text-align: right;\n",
       "    }\n",
       "</style>\n",
       "<table border=\"1\" class=\"dataframe\">\n",
       "  <thead>\n",
       "    <tr style=\"text-align: right;\">\n",
       "      <th></th>\n",
       "      <th>AA_HGVS</th>\n",
       "      <th>Residue</th>\n",
       "      <th>Domain</th>\n",
       "      <th>relSESA</th>\n",
       "      <th>consurf_old</th>\n",
       "      <th>dg</th>\n",
       "      <th>bt</th>\n",
       "      <th>cl</th>\n",
       "      <th>auth</th>\n",
       "      <th>kcore</th>\n",
       "    </tr>\n",
       "  </thead>\n",
       "  <tbody>\n",
       "    <tr>\n",
       "      <th>0</th>\n",
       "      <td>20</td>\n",
       "      <td>A</td>\n",
       "      <td>A1</td>\n",
       "      <td>1.039415</td>\n",
       "      <td>-0.438</td>\n",
       "      <td>2</td>\n",
       "      <td>0.000000</td>\n",
       "      <td>0.111791</td>\n",
       "      <td>0.018996</td>\n",
       "      <td>2</td>\n",
       "    </tr>\n",
       "    <tr>\n",
       "      <th>1</th>\n",
       "      <td>21</td>\n",
       "      <td>T</td>\n",
       "      <td>A1</td>\n",
       "      <td>0.801030</td>\n",
       "      <td>-0.496</td>\n",
       "      <td>3</td>\n",
       "      <td>0.000000</td>\n",
       "      <td>0.113146</td>\n",
       "      <td>0.040660</td>\n",
       "      <td>3</td>\n",
       "    </tr>\n",
       "    <tr>\n",
       "      <th>2</th>\n",
       "      <td>22</td>\n",
       "      <td>R</td>\n",
       "      <td>A1</td>\n",
       "      <td>0.499384</td>\n",
       "      <td>-0.784</td>\n",
       "      <td>10</td>\n",
       "      <td>0.005384</td>\n",
       "      <td>0.119778</td>\n",
       "      <td>0.105625</td>\n",
       "      <td>5</td>\n",
       "    </tr>\n",
       "    <tr>\n",
       "      <th>3</th>\n",
       "      <td>23</td>\n",
       "      <td>R</td>\n",
       "      <td>A1</td>\n",
       "      <td>0.822534</td>\n",
       "      <td>0.278</td>\n",
       "      <td>3</td>\n",
       "      <td>0.000731</td>\n",
       "      <td>0.111507</td>\n",
       "      <td>0.034230</td>\n",
       "      <td>2</td>\n",
       "    </tr>\n",
       "    <tr>\n",
       "      <th>4</th>\n",
       "      <td>24</td>\n",
       "      <td>Y</td>\n",
       "      <td>A1</td>\n",
       "      <td>0.371264</td>\n",
       "      <td>0.087</td>\n",
       "      <td>10</td>\n",
       "      <td>0.003627</td>\n",
       "      <td>0.121302</td>\n",
       "      <td>0.156471</td>\n",
       "      <td>5</td>\n",
       "    </tr>\n",
       "  </tbody>\n",
       "</table>\n",
       "</div>"
      ],
      "text/plain": [
       "   AA_HGVS Residue Domain   relSESA  consurf_old  dg        bt        cl  \\\n",
       "0       20       A     A1  1.039415       -0.438   2  0.000000  0.111791   \n",
       "1       21       T     A1  0.801030       -0.496   3  0.000000  0.113146   \n",
       "2       22       R     A1  0.499384       -0.784  10  0.005384  0.119778   \n",
       "3       23       R     A1  0.822534        0.278   3  0.000731  0.111507   \n",
       "4       24       Y     A1  0.371264        0.087  10  0.003627  0.121302   \n",
       "\n",
       "       auth  kcore  \n",
       "0  0.018996      2  \n",
       "1  0.040660      3  \n",
       "2  0.105625      5  \n",
       "3  0.034230      2  \n",
       "4  0.156471      5  "
      ]
     },
     "execution_count": 27,
     "metadata": {},
     "output_type": "execute_result"
    }
   ],
   "source": [
    "# Loading the data\n",
    "att_v2 = pd.read_excel(\"FVIII_attributes_v2.xlsx\", sheet_name = \"FVIII_attributes\")\n",
    "att_v2.head()"
   ]
  },
  {
   "cell_type": "code",
   "execution_count": 28,
   "id": "ead030de",
   "metadata": {},
   "outputs": [
    {
     "data": {
      "text/html": [
       "<div>\n",
       "<style scoped>\n",
       "    .dataframe tbody tr th:only-of-type {\n",
       "        vertical-align: middle;\n",
       "    }\n",
       "\n",
       "    .dataframe tbody tr th {\n",
       "        vertical-align: top;\n",
       "    }\n",
       "\n",
       "    .dataframe thead th {\n",
       "        text-align: right;\n",
       "    }\n",
       "</style>\n",
       "<table border=\"1\" class=\"dataframe\">\n",
       "  <thead>\n",
       "    <tr style=\"text-align: right;\">\n",
       "      <th></th>\n",
       "      <th>AA_HGVS</th>\n",
       "      <th>domain</th>\n",
       "      <th>AA_change</th>\n",
       "      <th>mild</th>\n",
       "      <th>moderate</th>\n",
       "      <th>severe</th>\n",
       "      <th>discrepancy</th>\n",
       "    </tr>\n",
       "  </thead>\n",
       "  <tbody>\n",
       "    <tr>\n",
       "      <th>0</th>\n",
       "      <td>23</td>\n",
       "      <td>A1</td>\n",
       "      <td>p.(Arg23Gly)</td>\n",
       "      <td>4</td>\n",
       "      <td>0</td>\n",
       "      <td>0</td>\n",
       "      <td>No</td>\n",
       "    </tr>\n",
       "    <tr>\n",
       "      <th>1</th>\n",
       "      <td>27</td>\n",
       "      <td>A1</td>\n",
       "      <td>p.(Gly27Asp)</td>\n",
       "      <td>0</td>\n",
       "      <td>1</td>\n",
       "      <td>1</td>\n",
       "      <td>Yes</td>\n",
       "    </tr>\n",
       "    <tr>\n",
       "      <th>2</th>\n",
       "      <td>28</td>\n",
       "      <td>A1</td>\n",
       "      <td>p.(Ala28Lys)</td>\n",
       "      <td>0</td>\n",
       "      <td>1</td>\n",
       "      <td>0</td>\n",
       "      <td>No</td>\n",
       "    </tr>\n",
       "    <tr>\n",
       "      <th>3</th>\n",
       "      <td>29</td>\n",
       "      <td>A1</td>\n",
       "      <td>p.(Val29Gly)</td>\n",
       "      <td>0</td>\n",
       "      <td>0</td>\n",
       "      <td>1</td>\n",
       "      <td>No</td>\n",
       "    </tr>\n",
       "    <tr>\n",
       "      <th>4</th>\n",
       "      <td>31</td>\n",
       "      <td>A1</td>\n",
       "      <td>p.(Leu31Pro)</td>\n",
       "      <td>0</td>\n",
       "      <td>1</td>\n",
       "      <td>0</td>\n",
       "      <td>No</td>\n",
       "    </tr>\n",
       "  </tbody>\n",
       "</table>\n",
       "</div>"
      ],
      "text/plain": [
       "   AA_HGVS domain     AA_change  mild  moderate  severe discrepancy\n",
       "0       23     A1  p.(Arg23Gly)     4         0       0          No\n",
       "1       27     A1  p.(Gly27Asp)     0         1       1         Yes\n",
       "2       28     A1  p.(Ala28Lys)     0         1       0          No\n",
       "3       29     A1  p.(Val29Gly)     0         0       1          No\n",
       "4       31     A1  p.(Leu31Pro)     0         1       0          No"
      ]
     },
     "execution_count": 28,
     "metadata": {},
     "output_type": "execute_result"
    }
   ],
   "source": [
    "patients_data = pd.read_excel(\"FVIII_discrepant_mutations.xlsx\", sheet_name = \"Unique_mutations\")\n",
    "patients_data.head()\n"
   ]
  },
  {
   "cell_type": "code",
   "execution_count": 29,
   "id": "4ce23072",
   "metadata": {},
   "outputs": [
    {
     "name": "stdout",
     "output_type": "stream",
     "text": [
      "   AA_HGVS domain     AA_change  mild  moderate  severe discrepancy Residue  \\\n",
      "0       23     A1  p.(Arg23Gly)     4         0       0          No       R   \n",
      "1       27     A1  p.(Gly27Asp)     0         1       1         Yes       G   \n",
      "2       28     A1  p.(Ala28Lys)     0         1       0          No       A   \n",
      "3       29     A1  p.(Val29Gly)     0         0       1          No       V   \n",
      "4       31     A1  p.(Leu31Pro)     0         1       0          No       L   \n",
      "\n",
      "  Domain   relSESA  consurf_old   dg        bt        cl      auth  kcore  \n",
      "0     A1  0.822534        0.278  3.0  0.000731  0.111507  0.034230    2.0  \n",
      "1     A1  0.000000       -0.661  5.0  0.000846  0.115499  0.068212    5.0  \n",
      "2     A1  0.000000       -1.019  7.0  0.001244  0.118282  0.097886    5.0  \n",
      "3     A1  0.207992       -0.746  9.0  0.001465  0.112729  0.095604    5.0  \n",
      "4     A1  0.250858       -0.134  7.0  0.006061  0.117071  0.074920    4.0  \n"
     ]
    }
   ],
   "source": [
    "pat_attr = pd.merge(patients_data, att_v2, on = \"AA_HGVS\", how = \"left\")\n",
    "print(pat_attr.head())"
   ]
  },
  {
   "cell_type": "code",
   "execution_count": 30,
   "id": "34b31572",
   "metadata": {},
   "outputs": [],
   "source": [
    "# Extract the original amino acid, position, and new amino acid from the AA_change column\n",
    "pat_attr[\"original_AA\"] = pat_attr[\"AA_change\"].str.extract(r\"\\((\\w{3})\\d+\\w{3}\\)\")\n",
    "pat_attr[\"new_AA\"] = pat_attr[\"AA_change\"].str.extract(r\"\\(\\w{3}\\d+(\\w{3})\\)\")\n",
    "\n",
    "# Drop the AA_change column\n",
    "pat_attr = pat_attr.drop(columns = [\"AA_change\", \"Domain\", \"mild\", \"moderate\", \"severe\"])"
   ]
  },
  {
   "cell_type": "code",
   "execution_count": 31,
   "id": "f0ae0f40",
   "metadata": {},
   "outputs": [],
   "source": [
    "pat_attr = pat_attr.replace(to_replace = ['Yes','No'], value = ['1','0'])"
   ]
  },
  {
   "cell_type": "code",
   "execution_count": 32,
   "id": "43eb0650",
   "metadata": {},
   "outputs": [],
   "source": [
    "pat_attr['discrepancy'] = pat_attr['discrepancy'].astype(int)"
   ]
  },
  {
   "cell_type": "code",
   "execution_count": 33,
   "id": "dadd50b1",
   "metadata": {},
   "outputs": [
    {
     "data": {
      "text/plain": [
       "AA_HGVS          int64\n",
       "domain          object\n",
       "discrepancy      int32\n",
       "Residue         object\n",
       "relSESA        float64\n",
       "consurf_old    float64\n",
       "dg             float64\n",
       "bt             float64\n",
       "cl             float64\n",
       "auth           float64\n",
       "kcore          float64\n",
       "original_AA     object\n",
       "new_AA          object\n",
       "dtype: object"
      ]
     },
     "execution_count": 33,
     "metadata": {},
     "output_type": "execute_result"
    }
   ],
   "source": [
    "pat_attr.dtypes"
   ]
  },
  {
   "cell_type": "markdown",
   "id": "af002d5c",
   "metadata": {},
   "source": [
    "## Checking for missing values"
   ]
  },
  {
   "cell_type": "code",
   "execution_count": 34,
   "id": "6b45e366",
   "metadata": {},
   "outputs": [
    {
     "data": {
      "text/plain": [
       "AA_HGVS         0\n",
       "domain          0\n",
       "discrepancy     0\n",
       "Residue        48\n",
       "relSESA        48\n",
       "consurf_old    48\n",
       "dg             48\n",
       "bt             48\n",
       "cl             48\n",
       "auth           48\n",
       "kcore          48\n",
       "original_AA     0\n",
       "new_AA          0\n",
       "dtype: int64"
      ]
     },
     "execution_count": 34,
     "metadata": {},
     "output_type": "execute_result"
    }
   ],
   "source": [
    "pd.isnull(pat_attr).sum()"
   ]
  },
  {
   "cell_type": "code",
   "execution_count": 35,
   "id": "f8c72548",
   "metadata": {},
   "outputs": [],
   "source": [
    "pat_attr = pat_attr.dropna()"
   ]
  },
  {
   "cell_type": "code",
   "execution_count": 36,
   "id": "6569d23d",
   "metadata": {},
   "outputs": [
    {
     "data": {
      "text/plain": [
       "AA_HGVS        0\n",
       "domain         0\n",
       "discrepancy    0\n",
       "Residue        0\n",
       "relSESA        0\n",
       "consurf_old    0\n",
       "dg             0\n",
       "bt             0\n",
       "cl             0\n",
       "auth           0\n",
       "kcore          0\n",
       "original_AA    0\n",
       "new_AA         0\n",
       "dtype: int64"
      ]
     },
     "execution_count": 36,
     "metadata": {},
     "output_type": "execute_result"
    }
   ],
   "source": [
    "pd.isnull(pat_attr).sum()"
   ]
  },
  {
   "cell_type": "markdown",
   "id": "5712ff71",
   "metadata": {},
   "source": [
    "## Splitting the columns into dependent and independent variables "
   ]
  },
  {
   "cell_type": "code",
   "execution_count": 37,
   "id": "d31bf420",
   "metadata": {},
   "outputs": [
    {
     "data": {
      "text/html": [
       "<div>\n",
       "<style scoped>\n",
       "    .dataframe tbody tr th:only-of-type {\n",
       "        vertical-align: middle;\n",
       "    }\n",
       "\n",
       "    .dataframe tbody tr th {\n",
       "        vertical-align: top;\n",
       "    }\n",
       "\n",
       "    .dataframe thead th {\n",
       "        text-align: right;\n",
       "    }\n",
       "</style>\n",
       "<table border=\"1\" class=\"dataframe\">\n",
       "  <thead>\n",
       "    <tr style=\"text-align: right;\">\n",
       "      <th></th>\n",
       "      <th>AA_HGVS</th>\n",
       "      <th>domain</th>\n",
       "      <th>Residue</th>\n",
       "      <th>relSESA</th>\n",
       "      <th>consurf_old</th>\n",
       "      <th>dg</th>\n",
       "      <th>bt</th>\n",
       "      <th>cl</th>\n",
       "      <th>auth</th>\n",
       "      <th>kcore</th>\n",
       "      <th>original_AA</th>\n",
       "      <th>new_AA</th>\n",
       "    </tr>\n",
       "  </thead>\n",
       "  <tbody>\n",
       "    <tr>\n",
       "      <th>0</th>\n",
       "      <td>23</td>\n",
       "      <td>A1</td>\n",
       "      <td>R</td>\n",
       "      <td>0.822534</td>\n",
       "      <td>0.278</td>\n",
       "      <td>3.0</td>\n",
       "      <td>0.000731</td>\n",
       "      <td>0.111507</td>\n",
       "      <td>0.034230</td>\n",
       "      <td>2.0</td>\n",
       "      <td>Arg</td>\n",
       "      <td>Gly</td>\n",
       "    </tr>\n",
       "    <tr>\n",
       "      <th>1</th>\n",
       "      <td>27</td>\n",
       "      <td>A1</td>\n",
       "      <td>G</td>\n",
       "      <td>0.000000</td>\n",
       "      <td>-0.661</td>\n",
       "      <td>5.0</td>\n",
       "      <td>0.000846</td>\n",
       "      <td>0.115499</td>\n",
       "      <td>0.068212</td>\n",
       "      <td>5.0</td>\n",
       "      <td>Gly</td>\n",
       "      <td>Asp</td>\n",
       "    </tr>\n",
       "    <tr>\n",
       "      <th>2</th>\n",
       "      <td>28</td>\n",
       "      <td>A1</td>\n",
       "      <td>A</td>\n",
       "      <td>0.000000</td>\n",
       "      <td>-1.019</td>\n",
       "      <td>7.0</td>\n",
       "      <td>0.001244</td>\n",
       "      <td>0.118282</td>\n",
       "      <td>0.097886</td>\n",
       "      <td>5.0</td>\n",
       "      <td>Ala</td>\n",
       "      <td>Lys</td>\n",
       "    </tr>\n",
       "    <tr>\n",
       "      <th>3</th>\n",
       "      <td>29</td>\n",
       "      <td>A1</td>\n",
       "      <td>V</td>\n",
       "      <td>0.207992</td>\n",
       "      <td>-0.746</td>\n",
       "      <td>9.0</td>\n",
       "      <td>0.001465</td>\n",
       "      <td>0.112729</td>\n",
       "      <td>0.095604</td>\n",
       "      <td>5.0</td>\n",
       "      <td>Val</td>\n",
       "      <td>Gly</td>\n",
       "    </tr>\n",
       "    <tr>\n",
       "      <th>4</th>\n",
       "      <td>31</td>\n",
       "      <td>A1</td>\n",
       "      <td>L</td>\n",
       "      <td>0.250858</td>\n",
       "      <td>-0.134</td>\n",
       "      <td>7.0</td>\n",
       "      <td>0.006061</td>\n",
       "      <td>0.117071</td>\n",
       "      <td>0.074920</td>\n",
       "      <td>4.0</td>\n",
       "      <td>Leu</td>\n",
       "      <td>Pro</td>\n",
       "    </tr>\n",
       "  </tbody>\n",
       "</table>\n",
       "</div>"
      ],
      "text/plain": [
       "   AA_HGVS domain Residue   relSESA  consurf_old   dg        bt        cl  \\\n",
       "0       23     A1       R  0.822534        0.278  3.0  0.000731  0.111507   \n",
       "1       27     A1       G  0.000000       -0.661  5.0  0.000846  0.115499   \n",
       "2       28     A1       A  0.000000       -1.019  7.0  0.001244  0.118282   \n",
       "3       29     A1       V  0.207992       -0.746  9.0  0.001465  0.112729   \n",
       "4       31     A1       L  0.250858       -0.134  7.0  0.006061  0.117071   \n",
       "\n",
       "       auth  kcore original_AA new_AA  \n",
       "0  0.034230    2.0         Arg    Gly  \n",
       "1  0.068212    5.0         Gly    Asp  \n",
       "2  0.097886    5.0         Ala    Lys  \n",
       "3  0.095604    5.0         Val    Gly  \n",
       "4  0.074920    4.0         Leu    Pro  "
      ]
     },
     "execution_count": 37,
     "metadata": {},
     "output_type": "execute_result"
    }
   ],
   "source": [
    "X = pat_attr.drop(\"discrepancy\", axis = 1).copy()\n",
    "X.head()"
   ]
  },
  {
   "cell_type": "code",
   "execution_count": 38,
   "id": "f79c8ce8",
   "metadata": {},
   "outputs": [
    {
     "data": {
      "text/plain": [
       "0    0\n",
       "1    1\n",
       "2    0\n",
       "3    0\n",
       "4    0\n",
       "Name: discrepancy, dtype: int32"
      ]
     },
     "execution_count": 38,
     "metadata": {},
     "output_type": "execute_result"
    }
   ],
   "source": [
    "y = pat_attr[\"discrepancy\"].copy()\n",
    "y.head()"
   ]
  },
  {
   "cell_type": "code",
   "execution_count": 39,
   "id": "c06f1d28",
   "metadata": {},
   "outputs": [
    {
     "data": {
      "text/plain": [
       "array([0, 1])"
      ]
     },
     "execution_count": 39,
     "metadata": {},
     "output_type": "execute_result"
    }
   ],
   "source": [
    "y.unique()"
   ]
  },
  {
   "cell_type": "markdown",
   "id": "276b1453",
   "metadata": {},
   "source": [
    "## Creating one hot encoding"
   ]
  },
  {
   "cell_type": "code",
   "execution_count": 40,
   "id": "a203587d",
   "metadata": {},
   "outputs": [
    {
     "name": "stdout",
     "output_type": "stream",
     "text": [
      "['domain', 'Residue', 'original_AA', 'new_AA']\n"
     ]
    }
   ],
   "source": [
    "# Create an empty array to store the column names\n",
    "obj_columns = []\n",
    "\n",
    "# Loop through the columns of the dataframe\n",
    "for col in X.columns:\n",
    "    # Check if the column is an object\n",
    "    if X[col].dtype == \"object\":\n",
    "        # Save the column name to the array\n",
    "        obj_columns.append(col)\n",
    "\n",
    "# Print the array\n",
    "print(obj_columns)"
   ]
  },
  {
   "cell_type": "code",
   "execution_count": 41,
   "id": "eb0d8e1d",
   "metadata": {},
   "outputs": [
    {
     "data": {
      "text/html": [
       "<div>\n",
       "<style scoped>\n",
       "    .dataframe tbody tr th:only-of-type {\n",
       "        vertical-align: middle;\n",
       "    }\n",
       "\n",
       "    .dataframe tbody tr th {\n",
       "        vertical-align: top;\n",
       "    }\n",
       "\n",
       "    .dataframe thead th {\n",
       "        text-align: right;\n",
       "    }\n",
       "</style>\n",
       "<table border=\"1\" class=\"dataframe\">\n",
       "  <thead>\n",
       "    <tr style=\"text-align: right;\">\n",
       "      <th></th>\n",
       "      <th>AA_HGVS</th>\n",
       "      <th>relSESA</th>\n",
       "      <th>consurf_old</th>\n",
       "      <th>dg</th>\n",
       "      <th>bt</th>\n",
       "      <th>cl</th>\n",
       "      <th>auth</th>\n",
       "      <th>kcore</th>\n",
       "      <th>domain_A1</th>\n",
       "      <th>domain_A1</th>\n",
       "      <th>...</th>\n",
       "      <th>new_AA_Leu</th>\n",
       "      <th>new_AA_Lys</th>\n",
       "      <th>new_AA_Met</th>\n",
       "      <th>new_AA_Phe</th>\n",
       "      <th>new_AA_Pro</th>\n",
       "      <th>new_AA_Ser</th>\n",
       "      <th>new_AA_Thr</th>\n",
       "      <th>new_AA_Trp</th>\n",
       "      <th>new_AA_Tyr</th>\n",
       "      <th>new_AA_Val</th>\n",
       "    </tr>\n",
       "  </thead>\n",
       "  <tbody>\n",
       "    <tr>\n",
       "      <th>0</th>\n",
       "      <td>23</td>\n",
       "      <td>0.822534</td>\n",
       "      <td>0.278</td>\n",
       "      <td>3.0</td>\n",
       "      <td>0.000731</td>\n",
       "      <td>0.111507</td>\n",
       "      <td>0.034230</td>\n",
       "      <td>2.0</td>\n",
       "      <td>1</td>\n",
       "      <td>0</td>\n",
       "      <td>...</td>\n",
       "      <td>0</td>\n",
       "      <td>0</td>\n",
       "      <td>0</td>\n",
       "      <td>0</td>\n",
       "      <td>0</td>\n",
       "      <td>0</td>\n",
       "      <td>0</td>\n",
       "      <td>0</td>\n",
       "      <td>0</td>\n",
       "      <td>0</td>\n",
       "    </tr>\n",
       "    <tr>\n",
       "      <th>1</th>\n",
       "      <td>27</td>\n",
       "      <td>0.000000</td>\n",
       "      <td>-0.661</td>\n",
       "      <td>5.0</td>\n",
       "      <td>0.000846</td>\n",
       "      <td>0.115499</td>\n",
       "      <td>0.068212</td>\n",
       "      <td>5.0</td>\n",
       "      <td>1</td>\n",
       "      <td>0</td>\n",
       "      <td>...</td>\n",
       "      <td>0</td>\n",
       "      <td>0</td>\n",
       "      <td>0</td>\n",
       "      <td>0</td>\n",
       "      <td>0</td>\n",
       "      <td>0</td>\n",
       "      <td>0</td>\n",
       "      <td>0</td>\n",
       "      <td>0</td>\n",
       "      <td>0</td>\n",
       "    </tr>\n",
       "    <tr>\n",
       "      <th>2</th>\n",
       "      <td>28</td>\n",
       "      <td>0.000000</td>\n",
       "      <td>-1.019</td>\n",
       "      <td>7.0</td>\n",
       "      <td>0.001244</td>\n",
       "      <td>0.118282</td>\n",
       "      <td>0.097886</td>\n",
       "      <td>5.0</td>\n",
       "      <td>1</td>\n",
       "      <td>0</td>\n",
       "      <td>...</td>\n",
       "      <td>0</td>\n",
       "      <td>1</td>\n",
       "      <td>0</td>\n",
       "      <td>0</td>\n",
       "      <td>0</td>\n",
       "      <td>0</td>\n",
       "      <td>0</td>\n",
       "      <td>0</td>\n",
       "      <td>0</td>\n",
       "      <td>0</td>\n",
       "    </tr>\n",
       "    <tr>\n",
       "      <th>3</th>\n",
       "      <td>29</td>\n",
       "      <td>0.207992</td>\n",
       "      <td>-0.746</td>\n",
       "      <td>9.0</td>\n",
       "      <td>0.001465</td>\n",
       "      <td>0.112729</td>\n",
       "      <td>0.095604</td>\n",
       "      <td>5.0</td>\n",
       "      <td>1</td>\n",
       "      <td>0</td>\n",
       "      <td>...</td>\n",
       "      <td>0</td>\n",
       "      <td>0</td>\n",
       "      <td>0</td>\n",
       "      <td>0</td>\n",
       "      <td>0</td>\n",
       "      <td>0</td>\n",
       "      <td>0</td>\n",
       "      <td>0</td>\n",
       "      <td>0</td>\n",
       "      <td>0</td>\n",
       "    </tr>\n",
       "    <tr>\n",
       "      <th>4</th>\n",
       "      <td>31</td>\n",
       "      <td>0.250858</td>\n",
       "      <td>-0.134</td>\n",
       "      <td>7.0</td>\n",
       "      <td>0.006061</td>\n",
       "      <td>0.117071</td>\n",
       "      <td>0.074920</td>\n",
       "      <td>4.0</td>\n",
       "      <td>1</td>\n",
       "      <td>0</td>\n",
       "      <td>...</td>\n",
       "      <td>0</td>\n",
       "      <td>0</td>\n",
       "      <td>0</td>\n",
       "      <td>0</td>\n",
       "      <td>1</td>\n",
       "      <td>0</td>\n",
       "      <td>0</td>\n",
       "      <td>0</td>\n",
       "      <td>0</td>\n",
       "      <td>0</td>\n",
       "    </tr>\n",
       "  </tbody>\n",
       "</table>\n",
       "<p>5 rows × 77 columns</p>\n",
       "</div>"
      ],
      "text/plain": [
       "   AA_HGVS   relSESA  consurf_old   dg        bt        cl      auth  kcore  \\\n",
       "0       23  0.822534        0.278  3.0  0.000731  0.111507  0.034230    2.0   \n",
       "1       27  0.000000       -0.661  5.0  0.000846  0.115499  0.068212    5.0   \n",
       "2       28  0.000000       -1.019  7.0  0.001244  0.118282  0.097886    5.0   \n",
       "3       29  0.207992       -0.746  9.0  0.001465  0.112729  0.095604    5.0   \n",
       "4       31  0.250858       -0.134  7.0  0.006061  0.117071  0.074920    4.0   \n",
       "\n",
       "   domain_A1  domain_A1   ...  new_AA_Leu  new_AA_Lys  new_AA_Met  new_AA_Phe  \\\n",
       "0          1           0  ...           0           0           0           0   \n",
       "1          1           0  ...           0           0           0           0   \n",
       "2          1           0  ...           0           1           0           0   \n",
       "3          1           0  ...           0           0           0           0   \n",
       "4          1           0  ...           0           0           0           0   \n",
       "\n",
       "   new_AA_Pro  new_AA_Ser  new_AA_Thr  new_AA_Trp  new_AA_Tyr  new_AA_Val  \n",
       "0           0           0           0           0           0           0  \n",
       "1           0           0           0           0           0           0  \n",
       "2           0           0           0           0           0           0  \n",
       "3           0           0           0           0           0           0  \n",
       "4           1           0           0           0           0           0  \n",
       "\n",
       "[5 rows x 77 columns]"
      ]
     },
     "execution_count": 41,
     "metadata": {},
     "output_type": "execute_result"
    }
   ],
   "source": [
    "X_encoded = pd.get_dummies(X, columns= obj_columns)\n",
    "X_encoded.head()"
   ]
  },
  {
   "cell_type": "markdown",
   "id": "9e79a3b9",
   "metadata": {},
   "source": [
    "## Preliminary XGBOOST MODEL"
   ]
  },
  {
   "cell_type": "code",
   "execution_count": 42,
   "id": "00ea4269",
   "metadata": {},
   "outputs": [
    {
     "data": {
      "text/plain": [
       "0.17559523809523808"
      ]
     },
     "execution_count": 42,
     "metadata": {},
     "output_type": "execute_result"
    }
   ],
   "source": [
    "sum(y)/len(y)"
   ]
  },
  {
   "cell_type": "code",
   "execution_count": 43,
   "id": "2274deac",
   "metadata": {},
   "outputs": [],
   "source": [
    "X_train, X_test, y_train, y_test = train_test_split(X_encoded, y, stratify= y)"
   ]
  },
  {
   "cell_type": "code",
   "execution_count": 44,
   "id": "ae23c6d1",
   "metadata": {},
   "outputs": [
    {
     "data": {
      "text/plain": [
       "0.1746031746031746"
      ]
     },
     "execution_count": 44,
     "metadata": {},
     "output_type": "execute_result"
    }
   ],
   "source": [
    "sum(y_train)/len(y_train)"
   ]
  },
  {
   "cell_type": "code",
   "execution_count": 45,
   "id": "823987df",
   "metadata": {},
   "outputs": [
    {
     "data": {
      "text/plain": [
       "0.17857142857142858"
      ]
     },
     "execution_count": 45,
     "metadata": {},
     "output_type": "execute_result"
    }
   ],
   "source": [
    "sum(y_test) / len(y_test) "
   ]
  },
  {
   "cell_type": "code",
   "execution_count": 46,
   "id": "f4054cea",
   "metadata": {},
   "outputs": [
    {
     "name": "stdout",
     "output_type": "stream",
     "text": [
      "Confusion Matrix:\n",
      " [[65  4]\n",
      " [15  0]]\n"
     ]
    },
    {
     "name": "stderr",
     "output_type": "stream",
     "text": [
      "C:\\Users\\hajam\\anaconda3\\lib\\site-packages\\sklearn\\utils\\deprecation.py:87: FutureWarning: Function plot_confusion_matrix is deprecated; Function `plot_confusion_matrix` is deprecated in 1.0 and will be removed in 1.2. Use one of the class methods: ConfusionMatrixDisplay.from_predictions or ConfusionMatrixDisplay.from_estimator.\n",
      "  warnings.warn(msg, category=FutureWarning)\n"
     ]
    },
    {
     "data": {
      "text/plain": [
       "<sklearn.metrics._plot.confusion_matrix.ConfusionMatrixDisplay at 0x24b94cc2e80>"
      ]
     },
     "execution_count": 46,
     "metadata": {},
     "output_type": "execute_result"
    },
    {
     "data": {
      "image/png": "[encoded data removed]",
      "text/plain": [
       "<Figure size 432x288 with 2 Axes>"
      ]
     },
     "metadata": {
      "needs_background": "light"
     },
     "output_type": "display_data"
    }
   ],
   "source": [
    "\n",
    "# Define the xgboost model with the best parameters from grid search\n",
    "xgb_model = xgb.XGBClassifier(objective = \"binary:logistic\", eval_metric = \"auc\", random_state = 42, n_estimators=200, max_depth=5, learning_rate=0.1)\n",
    "\n",
    "# Fit the model to the training data\n",
    "xgb_model.fit(X_train, y_train)\n",
    "\n",
    "# Predict the test set labels using the fitted model\n",
    "y_pred = xgb_model.predict(X_test)\n",
    "\n",
    "# Calculate and print the confusion matrix\n",
    "cm = confusion_matrix(y_test, y_pred)\n",
    "print(\"Confusion Matrix:\\n\", cm)\n",
    "\n",
    "# Plot the confusion matrix\n",
    "plot_confusion_matrix(xgb_model, X_test, y_test, cmap = \"Blues\")"
   ]
  },
  {
   "cell_type": "markdown",
   "id": "c62998b5",
   "metadata": {},
   "source": [
    "## Fine Tuning the model "
   ]
  },
  {
   "cell_type": "code",
   "execution_count": 47,
   "id": "f395b2f8",
   "metadata": {},
   "outputs": [
    {
     "name": "stdout",
     "output_type": "stream",
     "text": [
      "Best parameters:  {'colsample_bytree': 1.0, 'learning_rate': 0.3, 'max_depth': 5, 'min_child_weight': 1, 'n_estimators': 50, 'subsample': 0.5}\n",
      "Best score:  0.5685346496322106\n",
      "Confusion Matrix:\n",
      " [[62  7]\n",
      " [15  0]]\n"
     ]
    },
    {
     "name": "stderr",
     "output_type": "stream",
     "text": [
      "C:\\Users\\hajam\\anaconda3\\lib\\site-packages\\sklearn\\utils\\deprecation.py:87: FutureWarning: Function plot_confusion_matrix is deprecated; Function `plot_confusion_matrix` is deprecated in 1.0 and will be removed in 1.2. Use one of the class methods: ConfusionMatrixDisplay.from_predictions or ConfusionMatrixDisplay.from_estimator.\n",
      "  warnings.warn(msg, category=FutureWarning)\n"
     ]
    },
    {
     "data": {
      "text/plain": [
       "<sklearn.metrics._plot.confusion_matrix.ConfusionMatrixDisplay at 0x24b8f3dcb20>"
      ]
     },
     "execution_count": 47,
     "metadata": {},
     "output_type": "execute_result"
    },
    {
     "data": {
      "image/png": "[encoded data removed]",
      "text/plain": [
       "<Figure size 432x288 with 2 Axes>"
      ]
     },
     "metadata": {
      "needs_background": "light"
     },
     "output_type": "display_data"
    }
   ],
   "source": [
    "# Define the parameter grid for grid search\n",
    "param_grid = {\n",
    "    \"n_estimators\": [50, 100, 200],\n",
    "    \"max_depth\": [3, 5, 7],\n",
    "    \"learning_rate\": [0.01, 0.1, 0.3],\n",
    "    \"subsample\": [0.5, 0.8, 1.0],\n",
    "    \"colsample_bytree\": [0.5, 0.8, 1.0],\n",
    "    \"min_child_weight\": [1, 3, 5]\n",
    "}\n",
    "\n",
    "# Define the grid search object\n",
    "grid_search = GridSearchCV(xgb_model, param_grid, cv = 5, scoring = make_scorer(roc_auc_score), n_jobs = -1)\n",
    "\n",
    "# Fit the grid search object to the training data\n",
    "grid_search.fit(X_train, y_train)\n",
    "\n",
    "# Print the best parameters and the corresponding score\n",
    "print(\"Best parameters: \", grid_search.best_params_)\n",
    "print(\"Best score: \", grid_search.best_score_)\n",
    "\n",
    "# Predict the test set labels using the fitted model\n",
    "y_pred_xgb = grid_search.predict(X_test)\n",
    "\n",
    "# Calculate and print the confusion matrix\n",
    "cm = confusion_matrix(y_test, y_pred_xgb)\n",
    "print(\"Confusion Matrix:\\n\", cm)\n",
    "\n",
    "# Plot the confusion matrix\n",
    "plot_confusion_matrix(grid_search, X_test, y_test, cmap = \"Blues\")"
   ]
  },
  {
   "cell_type": "code",
   "execution_count": 49,
   "id": "630843c8",
   "metadata": {},
   "outputs": [
    {
     "name": "stdout",
     "output_type": "stream",
     "text": [
      "XGBoost Balanced Accuracy Score: 0.4492753623188406\n"
     ]
    }
   ],
   "source": [
    "bal_acc_xgb = balanced_accuracy_score(y_test, y_pred_xgb)\n",
    "print(\"XGBoost Balanced Accuracy Score:\", bal_acc_xgb)"
   ]
  },
  {
   "cell_type": "code",
   "execution_count": 50,
   "id": "dcc0deb0",
   "metadata": {},
   "outputs": [
    {
     "data": {
      "image/png": "[encoded data removed]",
      "text/plain": [
       "<Figure size 720x576 with 1 Axes>"
      ]
     },
     "metadata": {
      "needs_background": "light"
     },
     "output_type": "display_data"
    }
   ],
   "source": [
    "fig, ax = plt.subplots(figsize=(10, 8))\n",
    "xgb.plot_importance(xgb_model, ax=ax)\n",
    "plt.show()"
   ]
  },
  {
   "cell_type": "markdown",
   "id": "bba3f086",
   "metadata": {},
   "source": [
    "## Creating a logistic regression model"
   ]
  },
  {
   "cell_type": "code",
   "execution_count": 51,
   "id": "35a70d1d",
   "metadata": {},
   "outputs": [
    {
     "name": "stdout",
     "output_type": "stream",
     "text": [
      "Logistic Regression Confusion Matrix:\n",
      " [[69  0]\n",
      " [15  0]]\n",
      "Logistic Regression Balanced Accuracy Score: 0.5\n"
     ]
    },
    {
     "name": "stderr",
     "output_type": "stream",
     "text": [
      "C:\\Users\\hajam\\anaconda3\\lib\\site-packages\\sklearn\\linear_model\\_logistic.py:814: ConvergenceWarning: lbfgs failed to converge (status=1):\n",
      "STOP: TOTAL NO. of ITERATIONS REACHED LIMIT.\n",
      "\n",
      "Increase the number of iterations (max_iter) or scale the data as shown in:\n",
      "    https://scikit-learn.org/stable/modules/preprocessing.html\n",
      "Please also refer to the documentation for alternative solver options:\n",
      "    https://scikit-learn.org/stable/modules/linear_model.html#logistic-regression\n",
      "  n_iter_i = _check_optimize_result(\n"
     ]
    }
   ],
   "source": [
    "lr_model = LogisticRegression(random_state=42)\n",
    "\n",
    "# Fit the model to the training data\n",
    "lr_model.fit(X_train, y_train)\n",
    "\n",
    "# Predict the test set labels using the fitted model\n",
    "y_pred_lr = lr_model.predict(X_test)\n",
    "\n",
    "# Calculate and print the confusion matrix\n",
    "cm_lr = confusion_matrix(y_test, y_pred_lr)\n",
    "print(\"Logistic Regression Confusion Matrix:\\n\", cm_lr)\n",
    "\n",
    "# Calculate the balanced accuracy score and print it\n",
    "bal_acc_lr = balanced_accuracy_score(y_test, y_pred_lr)\n",
    "print(\"Logistic Regression Balanced Accuracy Score:\", bal_acc_lr)"
   ]
  },
  {
   "cell_type": "code",
   "execution_count": null,
   "id": "dc82e952",
   "metadata": {},
   "outputs": [],
   "source": []
  }
 ],
 "metadata": {
  "kernelspec": {
   "display_name": "Python 3 (ipykernel)",
   "language": "python",
   "name": "python3"
  },
  "language_info": {
   "codemirror_mode": {
    "name": "ipython",
    "version": 3
   },
   "file_extension": ".py",
   "mimetype": "text/x-python",
   "name": "python",
   "nbconvert_exporter": "python",
   "pygments_lexer": "ipython3",
   "version": "3.9.12"
  }
 },
 "nbformat": 4,
 "nbformat_minor": 5
}
